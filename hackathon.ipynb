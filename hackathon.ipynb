{
 "cells": [
  {
   "cell_type": "markdown",
   "id": "3cc8e208-d9c7-497f-a50a-1a36ab9194d5",
   "metadata": {},
   "source": [
    "**Seeding events and activities information**"
   ]
  },
  {
   "cell_type": "code",
   "execution_count": null,
   "id": "26a5029e-a965-4249-ba11-8b2142b226ab",
   "metadata": {},
   "outputs": [],
   "source": [
    "import firebase_admin\n",
    "from firebase_admin import credentials\n",
    "from firebase_admin import firestore\n",
    "\n",
    "# with open(\"../Hackathon/firestore.json\") as f:\n",
    "#     print(f.read())\n",
    "\n",
    "# Initialize the app with a service account, granting admin privileges\n",
    "cred = credentials.Certificate('../Hackathon/firestore.json')\n",
    "firebase_admin.initialize_app(cred)\n",
    "\n",
    "# Create a Firestore client\n",
    "db = firestore.client()"
   ]
  },
  {
   "cell_type": "code",
   "execution_count": null,
   "id": "3139d884-0fce-406b-8620-178b38bef7ce",
   "metadata": {},
   "outputs": [],
   "source": [
    "# imgdata = base64.b64decode(converted_string)\n",
    "# filename = 'test_image.jpg'  # I assume you have a way of picking unique filenames\n",
    "# with open(filename, 'wb') as f:\n",
    "#     f.write(imgdata)\n",
    "# f gets closed when you exit the with statement\n",
    "# Now save the value of filename to your database"
   ]
  },
  {
   "cell_type": "code",
   "execution_count": null,
   "id": "b7a0449a-4dcf-4277-bd10-9652c7802410",
   "metadata": {},
   "outputs": [],
   "source": [
    "#seeding event info\n",
    "import base64 \n",
    "imfilename = [\"sport&wellness.jpg\", \"workshops.jpg\", \"workshops.jpg\", \"volunteering.jpg\", \"fellowship.jpg\", \"prayer&worship.jpg\", \"biblestudy.jpg\"]  \n",
    "summaries = [\"Take a break from coding and join us for a refreshing lunchtime run around Science Park! Whether you’re a pro or just starting, come for a casual run, great company, and some encouragement to keep your body and soul in top shape.\", \n",
    "             \"Dive into discussions about integrating faith and leadership in today’s fast-paced world. Connect with fellow middle managers while learning effective strategies to lead with integrity. Lunch will be provided! Join our Telegram so we can keep you updated!\", \n",
    "             \"Join us for an insightful workshop on navigating parenting challenges in a digital world. We’ll discuss screen time, online safety, and fostering healthy tech habits. Bring your questions and concerns! Join our Telegram so we can keep you updated!\", \n",
    "             \"Join us for a day of service with your colleagues and families! Engage in fun, hands-on activities that benefit our local community. It’s a great way to bond, give back, and live out our faith together. Join our Telegram so we can keep you updated!\", \n",
    "             \"Join fellow techies for an evening of fellowship, food, and real talk on faith and tech! We’ll dive into discussions about balancing innovation with values, ethical tech, and finding purpose in our work. Come network, share ideas, and grow in faith.\", \n",
    "             \"Take a breather from the work grind and join us for a relaxing evening of worship, prayer, and fellowship. It’s a chill, judgment-free space to unwind and connect with others who share your faith.\",\n",
    "             \"Grab a coffee and join us for a quick mid-day Bible study session. It’s a chance to reset, reflect, and recharge in the middle of your busy work week. Come as you are—no prep needed!\"]\n",
    "titles = [\"Faith & Fitness: Lunchtime Run\", \n",
    "          \"Leadership & Faith: Navigating Challenges\", \n",
    "          \"Parenting in the Digital Age: A Workshop\", \n",
    "          \"Community Service Challenge: Give Back Together\", \n",
    "          \"Code & Christ: Faith in Tech Meet-Up\", \n",
    "          \"Afterwork Worship: Praise & Pray\", \n",
    "          \"Faith & Coffee: Lunchtime Bible Break\"]\n",
    "organisers = [\"Spirit In Motion\", \n",
    "              \"Faithful Leaders Initiative\", \n",
    "              \"Family First Foundation\", \n",
    "              \"Heart of Service\", \n",
    "              \"Faith@Work Tech Ministry\", \n",
    "              \"CityLight Ministry\", \n",
    "              \"Central Workday Fellowship\"]\n",
    "dates = [\"2024-11-27:12:00:00\", \n",
    "         \"2025-01-16:12:00:00\", \n",
    "         \"2025-01-22:12:00:00\", \n",
    "         \"2025-01-22:12:00:00\", \n",
    "         \"2024-11-22:12:00:00\", \n",
    "         \"2024-11-29:12:00:00\", \n",
    "         \"2024-11-26:12:00:00\"]\n",
    "longitudes = [\"103.78793249789857\", \n",
    "              \"103.95949408071057\", \n",
    "              \"103.9628137978943\", \n",
    "              \"103.91218646346258\", \n",
    "              \"103.7914879899314\", \n",
    "              \"103.78686577588458\", \n",
    "              \"103.84981002032096\"]\n",
    "latitudes = [\"1.2915208354703187\", \n",
    "             \"1.3337503431831221\", \n",
    "             \"1.3345091690397242\", \n",
    "             \"1.3016495935120518\", \n",
    "             \"1.3065194154401814\", \n",
    "             \"1.2978859613007487\", \n",
    "             \"1.285430678364419\"]\n",
    "#convert images to string  \n",
    "for i, j, k, l, m, n, o in zip(imfilename, summaries, titles, organisers, dates, longitudes, latitudes): \n",
    "    with open(i, \"rb\") as image2string: \n",
    "        converted_string = base64.b64encode(image2string.read()) \n",
    "    print(converted_string)  \n",
    "    with open('encode.bin', \"wb\") as file: \n",
    "        file.write(converted_string)\n",
    "    db.collection(\"events\").document().set({\"image\": converted_string, \"summary\": j, \"title\": k, \"organiser\": l, \"date\": m, \"longitude\": n, \"latitude\": o})\n",
    "\n",
    "# db.collection(\"resources\").document().set({\"category\": None, \"description\": None, \"image\": None, \"source\": None, \"summary\": None, \"url\": None})"
   ]
  },
  {
   "cell_type": "code",
   "execution_count": null,
   "id": "c602e76b-2ad1-47a7-9238-85761d4b1e32",
   "metadata": {},
   "outputs": [],
   "source": [
    "#seeding event info\n",
    "import base64 \n",
    "imfilename = [\"biblestudy.jpg\"]  \n",
    "summaries = [\"Grab a coffee and join us for a quick mid-day Bible study session. It’s a chance to reset, reflect, and recharge in the middle of your busy work week. Come as you are—no prep needed!\"]\n",
    "titles = [\"Faith & Coffee: Lunchtime Bible Break\"]\n",
    "organisers = [\"Central Workday Fellowship\"]\n",
    "dates = [\"2024-11-26:12:00:00\"]\n",
    "longitudes = [\"103.84981002032096\"]\n",
    "latitudes = [\"1.285430678364419\"]\n",
    "#convert images to string  \n",
    "for i, j, k, l, m, n, o in zip(imfilename, summaries, titles, organisers, dates, longitudes, latitudes): \n",
    "    with open(i, \"rb\") as image2string: \n",
    "        converted_string = base64.b64encode(image2string.read()) \n",
    "    print(converted_string)  \n",
    "    with open('encode.bin', \"wb\") as file: \n",
    "        file.write(converted_string)\n",
    "    db.collection(\"events\").document().set({\"image\": converted_string, \"summary\": j, \"title\": k, \"organiser\": l, \"date\": m, \"longitude\": n, \"latitude\": o})\n",
    "\n",
    "# db.collection(\"resources\").document().set({\"category\": None, \"description\": None, \"image\": None, \"source\": None, \"summary\": None, \"url\": None})"
   ]
  },
  {
   "cell_type": "code",
   "execution_count": null,
   "id": "a5c51697-5b34-4fd9-8b04-55cbc7e91f32",
   "metadata": {},
   "outputs": [],
   "source": [
    "#seeding resources info\n",
    "import base64 \n",
    "rimfilename = [\"smallgroup.jpg\", \"workshops.jpg\", \"fellowship.jpg\"]  \n",
    "descriptions = [\"Step-by-step guide to starting a small group\", \n",
    "                \"11-part series on how to look at the marketplace through a Christian lens\", \n",
    "                \"How the Church and Christians should approach mental health\"]\n",
    "titles = [\"Beginning and Leading a Small Group: Mapping Your Strategy\", \n",
    "          \"Aligning our Christian Worldview for the Market place\", \n",
    "          \"Let's Talk About Mental Health in Church\"]\n",
    "sources = [\"Cru\", \n",
    "           \"GBN: The marketplace ministry\",\n",
    "           \"Cru\"]\n",
    "urls = [\"https://www.cru.org/us/en/train-and-grow/help-others-grow/leading-small-groups/launching-and-leading-a-small-group.html\", \n",
    "        \"https://linktr.ee/gbnbec1\", \n",
    "        \"https://www.cru.org/sg/en/stories/helping-others-grow/lets-talk-about-mental-health-in-church.html\"]\n",
    "categories = [\"biblestudy\", \n",
    "              \"fellowship\", \n",
    "              \"prayer&worship\"]\n",
    "summaries = [\"small group\", \n",
    "             \"christianity and the marketplace\", \n",
    "             \"Christians and mental wellness\"]\n",
    "#convert images to string  \n",
    "for a, b, c, d, e, f, g in zip(rimfilename, descriptions, titles, sources, urls, categories, summaries): \n",
    "    with open(a, \"rb\") as image2string: \n",
    "        converted_string = base64.b64encode(image2string.read()) \n",
    "    print(converted_string)  \n",
    "    with open('encode.bin', \"wb\") as file: \n",
    "        file.write(converted_string)\n",
    "    db.collection(\"resources\").document().set({\"image\": converted_string, \"description\": b, \"title\": c, \"source\": d, \"url\": e, \"category\": f, \"summary\": g})\n",
    "\n",
    "# db.collection(\"resources\").document().set({\"category\": None, \"description\": None, \"image\": None, \"source\": None, \"summary\": None, \"url\": None})"
   ]
  },
  {
   "cell_type": "code",
   "execution_count": null,
   "id": "33249e17-0f61-4616-9157-7788a8469e3e",
   "metadata": {},
   "outputs": [],
   "source": [
    "# Specify the collection name you want to fetch documents from\n",
    "collection_name = 'events'\n",
    "\n",
    "# Fetch all documents in the specified collection\n",
    "docs = db.collection(events).stream()\n",
    "\n",
    "# Print out each document's ID and data\n",
    "for doc in docs:\n",
    "    print(f'{doc.id} => {doc.to_dict()}')"
   ]
  },
  {
   "cell_type": "markdown",
   "id": "34f243cc-2859-45d8-9585-d915b4cf7c1f",
   "metadata": {},
   "source": [
    "**Sampling postal codes**"
   ]
  },
  {
   "cell_type": "code",
   "execution_count": null,
   "id": "8709ec94-b4c8-49d8-aade-ae786ba8072a",
   "metadata": {},
   "outputs": [],
   "source": [
    "#load postal database in pandas format\n",
    "import gzip\n",
    "import csv\n",
    "import json\n",
    "import pandas as pd\n",
    "\n",
    "df = pd.read_csv('database.csv/database.csv')\n",
    "# df.head()"
   ]
  },
  {
   "cell_type": "code",
   "execution_count": null,
   "id": "18df33e7-2acf-44d9-9bc6-1ebbacd48c9b",
   "metadata": {},
   "outputs": [],
   "source": [
    "#creating df for cbd postal codes then sampling 10%\n",
    "df['POSTAL'] = df['POSTAL'].astype(str)\n",
    "# df2 = df.where(df['POSTAL'].str.startswith('2'))\n",
    "\n",
    "# filtered_df = df.where(df['POSTAL'].astype(str).str.startswith('2'))\n",
    "# filtered_df = filtered_df.dropna()\n",
    "cbd_postal = ('01','02','03','04','05', '06', '07', '08', '1', '2', '3', '4', '5', '6', '7', '8')\n",
    "df_cbd = df[df['POSTAL'].str.startswith(cbd_postal)]\n",
    "# df_cbd.info()\n",
    "df_cbd_samp = df_cbd.sample(frac=0.1)\n",
    "# df_cbd_samp.info()"
   ]
  },
  {
   "cell_type": "code",
   "execution_count": null,
   "id": "99cee4da-d25a-46c7-a4d9-81291cef3cf2",
   "metadata": {},
   "outputs": [],
   "source": [
    "#creating df for NON cbd postal codes then sampling 5%\n",
    "df_not_cbd = df[~df['POSTAL'].str.startswith(cbd_postal)]\n",
    "df_not_cbd_samp = df_not_cbd.sample(frac=0.05)\n",
    "# df_not_cbd_samp.info()"
   ]
  },
  {
   "cell_type": "code",
   "execution_count": null,
   "id": "63c0817a-ab56-49e9-bb76-e8c6e4013a2b",
   "metadata": {},
   "outputs": [],
   "source": [
    "#join cbd and non-cbd sampled data sets\n",
    "concatenated_df = pd.concat([df_cbd_samp, df_not_cbd_samp], axis=0)\n",
    "concatenated_df.info()"
   ]
  },
  {
   "cell_type": "code",
   "execution_count": null,
   "id": "68e848ea-0551-4c25-a76d-21f9afd1c9e9",
   "metadata": {},
   "outputs": [],
   "source": [
    "concatenated_df.to_csv ('../Hackathon/concatenated_df.csv', header=True) "
   ]
  },
  {
   "cell_type": "code",
   "execution_count": null,
   "id": "289fd4cd-96e3-4c2c-ae51-30fe9dc0f93a",
   "metadata": {},
   "outputs": [],
   "source": [
    "df.to_csv ('../Hackathon/complete.csv', header=True) "
   ]
  },
  {
   "cell_type": "markdown",
   "id": "ad8a217a-a141-4242-b160-91a329866bf5",
   "metadata": {},
   "source": [
    "**Uploading complete data with general postal codes 2 random events**"
   ]
  },
  {
   "cell_type": "code",
   "execution_count": null,
   "id": "a28d7630-8781-4ac3-9805-10c471830a34",
   "metadata": {},
   "outputs": [],
   "source": [
    "import gzip\n",
    "import csv\n",
    "import json\n",
    "import pandas as pd\n",
    "\n",
    "df_events = pd.read_csv('completedata_w_events.csv')\n",
    "df_events.head()"
   ]
  },
  {
   "cell_type": "code",
   "execution_count": 12,
   "id": "33099890-c598-4dd5-9225-986cf50680dd",
   "metadata": {},
   "outputs": [
    {
     "name": "stdout",
     "output_type": "stream",
     "text": [
      "success\n"
     ]
    }
   ],
   "source": [
    "#seeding general postal codes\n",
    "import pandas as pd\n",
    "import firebase_admin\n",
    "from firebase_admin import credentials, firestore\n",
    "\n",
    "# Initialize Firebase Admin SDK - Replace 'path/to/serviceAccountKey.json' with your actual file path\n",
    "cred = credentials.Certificate('../Hackathon/firestore.json')\n",
    "try:\n",
    "    firebase_admin.initialize_app(cred)\n",
    "except ValueError:\n",
    "    pass\n",
    "\n",
    "db = firestore.client()\n",
    "\n",
    "#Read data from excel\n",
    "# Replace 'path/to/excel_file.xlsx' with your actual file path\n",
    "df = pd.read_excel('final_uploading.xlsx', header=0)\n",
    "\n",
    "# Upload data to firestore - Specify your Firestore collection name\n",
    "collection_name = 'activities'\n",
    "\n",
    "import json\n",
    "import arrow\n",
    "from copy import deepcopy\n",
    "results = []\n",
    "\n",
    "\n",
    "for index, row in df.iterrows():\n",
    "    # Convert the row to a dictionary and upload it to Firestore\n",
    "    d = deepcopy(row.to_dict())\n",
    "\n",
    "    ds = d[\"datetime_start\"][:10] + \" \" + d[\"datetime_start\"][11:]\n",
    "    de = d[\"datetime_end\"][:10] + \" \" + d[\"datetime_end\"][11:]\n",
    "    \n",
    "    d[\"datetime_start\"] = arrow.get(ds).replace(tzinfo=\"Asia/Singapore\").isoformat()\n",
    "    d[\"datetime_end\"] = arrow.get(de).replace(tzinfo=\"Asia/Singapore\").isoformat()\n",
    "    results.append(d)\n",
    "\n",
    "\n",
    "with open(\"share_with_tommy.json\", \"w\") as wf:\n",
    "    wf.write(json.dumps(results, indent=2, default=str))\n",
    "\n",
    "print(\"success\")\n",
    "\n",
    "    # doc_ref = db.collection(collection_name).document().set(row.to_dict())\n"
   ]
  }
 ],
 "metadata": {
  "kernelspec": {
   "display_name": "Python 3 (ipykernel)",
   "language": "python",
   "name": "python3"
  },
  "language_info": {
   "codemirror_mode": {
    "name": "ipython",
    "version": 3
   },
   "file_extension": ".py",
   "mimetype": "text/x-python",
   "name": "python",
   "nbconvert_exporter": "python",
   "pygments_lexer": "ipython3",
   "version": "3.11.7"
  }
 },
 "nbformat": 4,
 "nbformat_minor": 5
}
